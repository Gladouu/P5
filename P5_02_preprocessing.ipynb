{
 "cells": [
  {
   "cell_type": "markdown",
   "id": "1d951919",
   "metadata": {
    "toc": true
   },
   "source": [
    "<h1>Table of Contents<span class=\"tocSkip\"></span></h1>\n",
    "<div class=\"toc\"><ul class=\"toc-item\"><li><span><a href=\"#Scénario\" data-toc-modified-id=\"Scénario-1\"><span class=\"toc-item-num\">1&nbsp;&nbsp;</span>Scénario</a></span><ul class=\"toc-item\"><li><span><a href=\"#Les-données\" data-toc-modified-id=\"Les-données-1.1\"><span class=\"toc-item-num\">1.1&nbsp;&nbsp;</span>Les données</a></span></li><li><span><a href=\"#Votre-mission\" data-toc-modified-id=\"Votre-mission-1.2\"><span class=\"toc-item-num\">1.2&nbsp;&nbsp;</span>Votre mission</a></span></li></ul></li><li><span><a href=\"#Environnement\" data-toc-modified-id=\"Environnement-2\"><span class=\"toc-item-num\">2&nbsp;&nbsp;</span>Environnement</a></span></li><li><span><a href=\"#Dataframes\" data-toc-modified-id=\"Dataframes-3\"><span class=\"toc-item-num\">3&nbsp;&nbsp;</span>Dataframes</a></span><ul class=\"toc-item\"><li><span><a href=\"#Bilan-Alimentaire\" data-toc-modified-id=\"Bilan-Alimentaire-3.1\"><span class=\"toc-item-num\">3.1&nbsp;&nbsp;</span>Bilan Alimentaire</a></span></li><li><span><a href=\"#Produits-d'origine-animale\" data-toc-modified-id=\"Produits-d'origine-animale-3.2\"><span class=\"toc-item-num\">3.2&nbsp;&nbsp;</span>Produits d'origine animale</a></span></li><li><span><a href=\"#Population\" data-toc-modified-id=\"Population-3.3\"><span class=\"toc-item-num\">3.3&nbsp;&nbsp;</span>Population</a></span></li><li><span><a href=\"#PIB\" data-toc-modified-id=\"PIB-3.4\"><span class=\"toc-item-num\">3.4&nbsp;&nbsp;</span>PIB</a></span></li><li><span><a href=\"#Importation-produit-'Viande-de-Volailles'\" data-toc-modified-id=\"Importation-produit-'Viande-de-Volailles'-3.5\"><span class=\"toc-item-num\">3.5&nbsp;&nbsp;</span>Importation produit 'Viande de Volailles'</a></span></li><li><span><a href=\"#Dataframe-final\" data-toc-modified-id=\"Dataframe-final-3.6\"><span class=\"toc-item-num\">3.6&nbsp;&nbsp;</span>Dataframe final</a></span></li><li><span><a href=\"#Profiling-Report\" data-toc-modified-id=\"Profiling-Report-3.7\"><span class=\"toc-item-num\">3.7&nbsp;&nbsp;</span>Profiling Report</a></span></li><li><span><a href=\"#Cleaning\" data-toc-modified-id=\"Cleaning-3.8\"><span class=\"toc-item-num\">3.8&nbsp;&nbsp;</span>Cleaning</a></span></li><li><span><a href=\"#Export\" data-toc-modified-id=\"Export-3.9\"><span class=\"toc-item-num\">3.9&nbsp;&nbsp;</span>Export</a></span></li></ul></li></ul></div>"
   ]
  },
  {
   "cell_type": "markdown",
   "id": "6213b717",
   "metadata": {},
   "source": [
    "# Scénario\n",
    "\n",
    "Votre entreprise d'agroalimentaire souhaite se développer à l'international. Elle est spécialisée dans... le poulet !\n",
    "\n",
    "L'international, oui, mais pour l'instant, le champ des possibles est bien large : aucun pays particulier ni aucun continent n'est pour le moment choisi. Tous les pays sont envisageables !\n",
    "Votre objectif sera d'aider à cibler plus particulièrement certains pays, dans le but d'approfondir ensuite l'étude de marché. Plus particulièrement, l'idéal serait de produire des \"groupes\" de pays, plus ou moins gros, dont on connaît les caractéristiques.\n",
    "\n",
    "Dans un premier temps, la stratégie est plutôt d'exporter les produits plutôt que de produire sur place, c'est-à-dire dans le(s) nouveau(x) pays ciblé(s)."
   ]
  },
  {
   "cell_type": "markdown",
   "id": "bc971595",
   "metadata": {},
   "source": [
    "## Les données\n",
    "\n",
    "Vous vous souvenez de la FAO, dans l'un de vos précédents projets ? [Allez, on y retourne](http://www.fao.org/faostat/fr/#data) ! Vous connaissez déjà l'interface du site, à vous de retrouver les données qui vous seront utiles pour le projet."
   ]
  },
  {
   "cell_type": "markdown",
   "id": "82223a3e",
   "metadata": {},
   "source": [
    "## Votre mission\n",
    "\n",
    "Pour identifier les pays propices à une insertion dans le marché du poulet, il vous a été demandé de cibler les pays. Il vous faudra également étudier les régimes alimentaires de chaque pays, notamment en termes de protéines d'origine animale et en termes de calories.\n",
    "\n",
    "Construisez votre échantillon contenant l'ensemble des pays disponibles, chacun caractérisé par ces variables :\n",
    "\n",
    "    - différence de population entre une année antérieure (au choix) et l'année courante, exprimée en pourcentage ;\n",
    "    \n",
    "    - proportion de protéines d'origine animale par rapport à la quantité totale de protéines dans la disponibilité alimentaire du pays ;\n",
    "    \n",
    "    - disponibilité alimentaire en protéines par habitant ;\n",
    "    \n",
    "    - disponibilité alimentaire en calories par habitant.\n",
    "    \n",
    "Construisez un dendrogramme contenant l'ensemble des pays étudiés, puis coupez-le afin d'obtenir 5 groupes.\n",
    "\n",
    "Caractérisez chacun de ces groupes selon les variables cités précédemment, et facultativement selon d'autres variables que vous jugerez pertinentes (ex : le PIB par habitant). Vous pouvez le faire en calculant la position des centroïdes de chacun des groupes, puis en les commentant et en les critiquant au vu de vos objectifs.\n",
    "\n",
    "Donnez une courte liste de pays à cibler, en présentant leurs caractéristiques. Un découpage plus précis qu'en 5 groupes peut si besoin être effectué pour cibler un nombre raisonnable de pays. \n",
    "\n",
    "Visualisez vos  partitions dans le premier plan factoriel obtenu par ACP.\n",
    "\n",
    "Dans votre partition, vous avez obtenu des groupes distincts. Vérifiez donc qu'ils diffèrent réellement. Pour cela, réalisez les tests statistiques suivants :\n",
    "\n",
    "    - un test d'adéquation : parmi les 4 variables, ou parmi d'autres variables que vous trouverez pertinentes, trouvez une variable dont la loi est normale ;\n",
    "    \n",
    "    - un test de comparaison de deux populations (dans le cas gaussien) : choisissez 2 clusters parmi ceux que vous aurez déterminé. Sur ces 2 clusters, testez la variable gaussienne grâce à un test de comparaison."
   ]
  },
  {
   "cell_type": "markdown",
   "id": "5a6dfca4",
   "metadata": {},
   "source": [
    "# Environnement "
   ]
  },
  {
   "cell_type": "code",
   "execution_count": 1,
   "id": "5fdf6418",
   "metadata": {},
   "outputs": [],
   "source": [
    "import numpy as np\n",
    "import pandas as pd"
   ]
  },
  {
   "cell_type": "markdown",
   "id": "91180a1e",
   "metadata": {},
   "source": [
    "# Dataframes"
   ]
  },
  {
   "cell_type": "markdown",
   "id": "c5728fa1",
   "metadata": {},
   "source": [
    "## Bilan Alimentaire"
   ]
  },
  {
   "cell_type": "code",
   "execution_count": 2,
   "id": "27b26a90",
   "metadata": {},
   "outputs": [],
   "source": [
    "#import data\n",
    "bilan_alim = pd.read_csv('/Users/Gladou/Documents/OpenClassRooms/Parcours Data Analyst/Projets/P5/P5_dataset/FAOSTAT_data_bilans_alim_2018.csv')"
   ]
  },
  {
   "cell_type": "code",
   "execution_count": 3,
   "id": "b5322742",
   "metadata": {
    "scrolled": true
   },
   "outputs": [
    {
     "data": {
      "text/plain": [
       "array(['Im', 'S', 'Fc', 'A'], dtype=object)"
      ]
     },
     "execution_count": 3,
     "metadata": {},
     "output_type": "execute_result"
    }
   ],
   "source": [
    "#import checking\n",
    "#bilan_alim.head(3)\n",
    "\n",
    "#meaning\n",
    "bilan_alim['Symbole'].unique()"
   ]
  },
  {
   "cell_type": "code",
   "execution_count": 4,
   "id": "e50876a3",
   "metadata": {
    "scrolled": true
   },
   "outputs": [
    {
     "data": {
      "text/plain": [
       "array([\"Données de la FAO basées sur une méthodologie d'imputation\",\n",
       "       'Données standardisées', 'Donnée calculée',\n",
       "       'Agrégat, peut inclure des données officielles, semi-officielles, estimées ou calculées'],\n",
       "      dtype=object)"
      ]
     },
     "execution_count": 4,
     "metadata": {},
     "output_type": "execute_result"
    }
   ],
   "source": [
    "#same here\n",
    "bilan_alim['Description du Symbole'].unique()"
   ]
  },
  {
   "cell_type": "code",
   "execution_count": 5,
   "id": "884b783b",
   "metadata": {
    "scrolled": false
   },
   "outputs": [
    {
     "data": {
      "text/html": [
       "<div>\n",
       "<style scoped>\n",
       "    .dataframe tbody tr th:only-of-type {\n",
       "        vertical-align: middle;\n",
       "    }\n",
       "\n",
       "    .dataframe tbody tr th {\n",
       "        vertical-align: top;\n",
       "    }\n",
       "\n",
       "    .dataframe thead th {\n",
       "        text-align: right;\n",
       "    }\n",
       "</style>\n",
       "<table border=\"1\" class=\"dataframe\">\n",
       "  <thead>\n",
       "    <tr style=\"text-align: right;\">\n",
       "      <th></th>\n",
       "      <th>Code Domaine</th>\n",
       "      <th>Domaine</th>\n",
       "      <th>Code zone</th>\n",
       "      <th>Zone</th>\n",
       "      <th>Code Élément</th>\n",
       "      <th>Élément</th>\n",
       "      <th>Code Produit</th>\n",
       "      <th>Produit</th>\n",
       "      <th>Code année</th>\n",
       "      <th>Année</th>\n",
       "      <th>Unité</th>\n",
       "      <th>Valeur</th>\n",
       "      <th>Symbole</th>\n",
       "      <th>Description du Symbole</th>\n",
       "    </tr>\n",
       "  </thead>\n",
       "  <tbody>\n",
       "    <tr>\n",
       "      <th>32678</th>\n",
       "      <td>FBS</td>\n",
       "      <td>Nouveaux Bilans Alimentaire</td>\n",
       "      <td>351</td>\n",
       "      <td>Chine</td>\n",
       "      <td>5511</td>\n",
       "      <td>Production</td>\n",
       "      <td>2511</td>\n",
       "      <td>Blé et produits</td>\n",
       "      <td>2018</td>\n",
       "      <td>2018</td>\n",
       "      <td>Milliers de tonnes</td>\n",
       "      <td>131690.0</td>\n",
       "      <td>A</td>\n",
       "      <td>Agrégat, peut inclure des données officielles,...</td>\n",
       "    </tr>\n",
       "    <tr>\n",
       "      <th>32679</th>\n",
       "      <td>FBS</td>\n",
       "      <td>Nouveaux Bilans Alimentaire</td>\n",
       "      <td>351</td>\n",
       "      <td>Chine</td>\n",
       "      <td>5611</td>\n",
       "      <td>Importations - Quantité</td>\n",
       "      <td>2511</td>\n",
       "      <td>Blé et produits</td>\n",
       "      <td>2018</td>\n",
       "      <td>2018</td>\n",
       "      <td>Milliers de tonnes</td>\n",
       "      <td>5360.0</td>\n",
       "      <td>A</td>\n",
       "      <td>Agrégat, peut inclure des données officielles,...</td>\n",
       "    </tr>\n",
       "    <tr>\n",
       "      <th>32680</th>\n",
       "      <td>FBS</td>\n",
       "      <td>Nouveaux Bilans Alimentaire</td>\n",
       "      <td>351</td>\n",
       "      <td>Chine</td>\n",
       "      <td>5072</td>\n",
       "      <td>Variation de stock</td>\n",
       "      <td>2511</td>\n",
       "      <td>Blé et produits</td>\n",
       "      <td>2018</td>\n",
       "      <td>2018</td>\n",
       "      <td>Milliers de tonnes</td>\n",
       "      <td>8887.0</td>\n",
       "      <td>A</td>\n",
       "      <td>Agrégat, peut inclure des données officielles,...</td>\n",
       "    </tr>\n",
       "  </tbody>\n",
       "</table>\n",
       "</div>"
      ],
      "text/plain": [
       "      Code Domaine                      Domaine  Code zone   Zone  \\\n",
       "32678          FBS  Nouveaux Bilans Alimentaire        351  Chine   \n",
       "32679          FBS  Nouveaux Bilans Alimentaire        351  Chine   \n",
       "32680          FBS  Nouveaux Bilans Alimentaire        351  Chine   \n",
       "\n",
       "       Code Élément                  Élément  Code Produit          Produit  \\\n",
       "32678          5511               Production          2511  Blé et produits   \n",
       "32679          5611  Importations - Quantité          2511  Blé et produits   \n",
       "32680          5072       Variation de stock          2511  Blé et produits   \n",
       "\n",
       "       Code année  Année               Unité    Valeur Symbole  \\\n",
       "32678        2018   2018  Milliers de tonnes  131690.0       A   \n",
       "32679        2018   2018  Milliers de tonnes    5360.0       A   \n",
       "32680        2018   2018  Milliers de tonnes    8887.0       A   \n",
       "\n",
       "                                  Description du Symbole  \n",
       "32678  Agrégat, peut inclure des données officielles,...  \n",
       "32679  Agrégat, peut inclure des données officielles,...  \n",
       "32680  Agrégat, peut inclure des données officielles,...  "
      ]
     },
     "execution_count": 5,
     "metadata": {},
     "output_type": "execute_result"
    }
   ],
   "source": [
    "#composition of the aggregate\n",
    "bilan_alim[(bilan_alim['Symbole'] == 'A')].head(3)"
   ]
  },
  {
   "cell_type": "code",
   "execution_count": 6,
   "id": "2865d7e4",
   "metadata": {},
   "outputs": [
    {
     "data": {
      "text/plain": [
       "array(['Chine'], dtype=object)"
      ]
     },
     "execution_count": 6,
     "metadata": {},
     "output_type": "execute_result"
    }
   ],
   "source": [
    "#checking which country match to the aggregate\n",
    "bilan_alim[(bilan_alim['Symbole'] == 'A')]['Zone'].unique()"
   ]
  },
  {
   "cell_type": "code",
   "execution_count": 7,
   "id": "5bbf3e6d",
   "metadata": {
    "scrolled": true
   },
   "outputs": [
    {
     "data": {
      "text/html": [
       "<div>\n",
       "<style scoped>\n",
       "    .dataframe tbody tr th:only-of-type {\n",
       "        vertical-align: middle;\n",
       "    }\n",
       "\n",
       "    .dataframe tbody tr th {\n",
       "        vertical-align: top;\n",
       "    }\n",
       "\n",
       "    .dataframe thead th {\n",
       "        text-align: right;\n",
       "    }\n",
       "</style>\n",
       "<table border=\"1\" class=\"dataframe\">\n",
       "  <thead>\n",
       "    <tr style=\"text-align: right;\">\n",
       "      <th></th>\n",
       "      <th>Zone</th>\n",
       "      <th>Élément</th>\n",
       "      <th>Produit</th>\n",
       "      <th>Unité</th>\n",
       "      <th>Valeur</th>\n",
       "    </tr>\n",
       "  </thead>\n",
       "  <tbody>\n",
       "    <tr>\n",
       "      <th>0</th>\n",
       "      <td>Afghanistan</td>\n",
       "      <td>Production</td>\n",
       "      <td>Blé et produits</td>\n",
       "      <td>Milliers de tonnes</td>\n",
       "      <td>3613.0</td>\n",
       "    </tr>\n",
       "    <tr>\n",
       "      <th>1</th>\n",
       "      <td>Afghanistan</td>\n",
       "      <td>Importations - Quantité</td>\n",
       "      <td>Blé et produits</td>\n",
       "      <td>Milliers de tonnes</td>\n",
       "      <td>3376.0</td>\n",
       "    </tr>\n",
       "    <tr>\n",
       "      <th>2</th>\n",
       "      <td>Afghanistan</td>\n",
       "      <td>Variation de stock</td>\n",
       "      <td>Blé et produits</td>\n",
       "      <td>Milliers de tonnes</td>\n",
       "      <td>-6.0</td>\n",
       "    </tr>\n",
       "  </tbody>\n",
       "</table>\n",
       "</div>"
      ],
      "text/plain": [
       "          Zone                  Élément          Produit               Unité  \\\n",
       "0  Afghanistan               Production  Blé et produits  Milliers de tonnes   \n",
       "1  Afghanistan  Importations - Quantité  Blé et produits  Milliers de tonnes   \n",
       "2  Afghanistan       Variation de stock  Blé et produits  Milliers de tonnes   \n",
       "\n",
       "   Valeur  \n",
       "0  3613.0  \n",
       "1  3376.0  \n",
       "2    -6.0  "
      ]
     },
     "execution_count": 7,
     "metadata": {},
     "output_type": "execute_result"
    }
   ],
   "source": [
    "#remove aggregates data\n",
    "bilan_alim = bilan_alim[~(bilan_alim['Zone'] == 'Chine')]\n",
    "\n",
    "#columns selection\n",
    "bilan_alim = bilan_alim[['Zone', 'Élément', 'Produit', 'Unité', 'Valeur']].copy()\n",
    "\n",
    "#show df\n",
    "bilan_alim.head(3)"
   ]
  },
  {
   "cell_type": "code",
   "execution_count": 8,
   "id": "f7d4227e",
   "metadata": {},
   "outputs": [
    {
     "data": {
      "text/plain": [
       "array(['Milliers de tonnes', 'kg', 'Kcal/personne/jour',\n",
       "       'g/personne/jour'], dtype=object)"
      ]
     },
     "execution_count": 8,
     "metadata": {},
     "output_type": "execute_result"
    }
   ],
   "source": [
    "#unit check\n",
    "bilan_alim['Unité'].unique()"
   ]
  },
  {
   "cell_type": "markdown",
   "id": "a591aef7",
   "metadata": {},
   "source": [
    ">*NB : Pour la suite de l'analyse, les quantités seront exprimées en milliers de tonnes (sauf exception présisée)*"
   ]
  },
  {
   "cell_type": "code",
   "execution_count": 9,
   "id": "e926ffa5",
   "metadata": {
    "scrolled": true
   },
   "outputs": [
    {
     "data": {
      "text/html": [
       "<div>\n",
       "<style scoped>\n",
       "    .dataframe tbody tr th:only-of-type {\n",
       "        vertical-align: middle;\n",
       "    }\n",
       "\n",
       "    .dataframe tbody tr th {\n",
       "        vertical-align: top;\n",
       "    }\n",
       "\n",
       "    .dataframe thead th {\n",
       "        text-align: right;\n",
       "    }\n",
       "</style>\n",
       "<table border=\"1\" class=\"dataframe\">\n",
       "  <thead>\n",
       "    <tr style=\"text-align: right;\">\n",
       "      <th></th>\n",
       "      <th>Pays</th>\n",
       "      <th>Produit</th>\n",
       "      <th>Alimentation pour touristes</th>\n",
       "      <th>Aliments pour animaux</th>\n",
       "      <th>Autres utilisations (non alimentaire)</th>\n",
       "      <th>Dispo alim kcal/pers/j</th>\n",
       "      <th>Dispo alim kg/pers/j</th>\n",
       "      <th>Dispo MG g/pers/j</th>\n",
       "      <th>Dispo prot g/pers/j</th>\n",
       "      <th>Dispo int</th>\n",
       "      <th>Export</th>\n",
       "      <th>Import</th>\n",
       "      <th>Nourriture</th>\n",
       "      <th>Pertes</th>\n",
       "      <th>Production</th>\n",
       "      <th>Résidus</th>\n",
       "      <th>Semences</th>\n",
       "      <th>Traitement</th>\n",
       "      <th>Variation de stock</th>\n",
       "    </tr>\n",
       "  </thead>\n",
       "  <tbody>\n",
       "    <tr>\n",
       "      <th>0</th>\n",
       "      <td>Afghanistan</td>\n",
       "      <td>Abats Comestible</td>\n",
       "      <td>NaN</td>\n",
       "      <td>NaN</td>\n",
       "      <td>NaN</td>\n",
       "      <td>5.0</td>\n",
       "      <td>1.56</td>\n",
       "      <td>0.18</td>\n",
       "      <td>0.70</td>\n",
       "      <td>61.0</td>\n",
       "      <td>0.0</td>\n",
       "      <td>5.0</td>\n",
       "      <td>58.0</td>\n",
       "      <td>3.0</td>\n",
       "      <td>56.0</td>\n",
       "      <td>0.0</td>\n",
       "      <td>NaN</td>\n",
       "      <td>0.0</td>\n",
       "      <td>NaN</td>\n",
       "    </tr>\n",
       "    <tr>\n",
       "      <th>1</th>\n",
       "      <td>Afghanistan</td>\n",
       "      <td>Agrumes, Autres</td>\n",
       "      <td>NaN</td>\n",
       "      <td>NaN</td>\n",
       "      <td>NaN</td>\n",
       "      <td>1.0</td>\n",
       "      <td>1.84</td>\n",
       "      <td>0.01</td>\n",
       "      <td>0.03</td>\n",
       "      <td>69.0</td>\n",
       "      <td>0.0</td>\n",
       "      <td>66.0</td>\n",
       "      <td>69.0</td>\n",
       "      <td>0.0</td>\n",
       "      <td>3.0</td>\n",
       "      <td>0.0</td>\n",
       "      <td>NaN</td>\n",
       "      <td>0.0</td>\n",
       "      <td>0.0</td>\n",
       "    </tr>\n",
       "    <tr>\n",
       "      <th>2</th>\n",
       "      <td>Afghanistan</td>\n",
       "      <td>Alcool, non Comestible</td>\n",
       "      <td>NaN</td>\n",
       "      <td>NaN</td>\n",
       "      <td>NaN</td>\n",
       "      <td>NaN</td>\n",
       "      <td>NaN</td>\n",
       "      <td>NaN</td>\n",
       "      <td>NaN</td>\n",
       "      <td>0.0</td>\n",
       "      <td>0.0</td>\n",
       "      <td>0.0</td>\n",
       "      <td>NaN</td>\n",
       "      <td>NaN</td>\n",
       "      <td>0.0</td>\n",
       "      <td>0.0</td>\n",
       "      <td>NaN</td>\n",
       "      <td>NaN</td>\n",
       "      <td>NaN</td>\n",
       "    </tr>\n",
       "    <tr>\n",
       "      <th>3</th>\n",
       "      <td>Afghanistan</td>\n",
       "      <td>Aliments pour enfants</td>\n",
       "      <td>NaN</td>\n",
       "      <td>NaN</td>\n",
       "      <td>NaN</td>\n",
       "      <td>1.0</td>\n",
       "      <td>0.06</td>\n",
       "      <td>0.00</td>\n",
       "      <td>0.03</td>\n",
       "      <td>2.0</td>\n",
       "      <td>0.0</td>\n",
       "      <td>3.0</td>\n",
       "      <td>2.0</td>\n",
       "      <td>NaN</td>\n",
       "      <td>NaN</td>\n",
       "      <td>0.0</td>\n",
       "      <td>NaN</td>\n",
       "      <td>NaN</td>\n",
       "      <td>1.0</td>\n",
       "    </tr>\n",
       "    <tr>\n",
       "      <th>4</th>\n",
       "      <td>Afghanistan</td>\n",
       "      <td>Ananas et produits</td>\n",
       "      <td>NaN</td>\n",
       "      <td>NaN</td>\n",
       "      <td>NaN</td>\n",
       "      <td>0.0</td>\n",
       "      <td>0.03</td>\n",
       "      <td>0.00</td>\n",
       "      <td>0.00</td>\n",
       "      <td>1.0</td>\n",
       "      <td>0.0</td>\n",
       "      <td>1.0</td>\n",
       "      <td>1.0</td>\n",
       "      <td>NaN</td>\n",
       "      <td>0.0</td>\n",
       "      <td>0.0</td>\n",
       "      <td>NaN</td>\n",
       "      <td>0.0</td>\n",
       "      <td>0.0</td>\n",
       "    </tr>\n",
       "  </tbody>\n",
       "</table>\n",
       "</div>"
      ],
      "text/plain": [
       "          Pays                 Produit  Alimentation pour touristes  \\\n",
       "0  Afghanistan        Abats Comestible                          NaN   \n",
       "1  Afghanistan         Agrumes, Autres                          NaN   \n",
       "2  Afghanistan  Alcool, non Comestible                          NaN   \n",
       "3  Afghanistan   Aliments pour enfants                          NaN   \n",
       "4  Afghanistan      Ananas et produits                          NaN   \n",
       "\n",
       "   Aliments pour animaux  Autres utilisations (non alimentaire)  \\\n",
       "0                    NaN                                    NaN   \n",
       "1                    NaN                                    NaN   \n",
       "2                    NaN                                    NaN   \n",
       "3                    NaN                                    NaN   \n",
       "4                    NaN                                    NaN   \n",
       "\n",
       "   Dispo alim kcal/pers/j  Dispo alim kg/pers/j  Dispo MG g/pers/j  \\\n",
       "0                     5.0                  1.56               0.18   \n",
       "1                     1.0                  1.84               0.01   \n",
       "2                     NaN                   NaN                NaN   \n",
       "3                     1.0                  0.06               0.00   \n",
       "4                     0.0                  0.03               0.00   \n",
       "\n",
       "   Dispo prot g/pers/j  Dispo int  Export  Import  Nourriture  Pertes  \\\n",
       "0                 0.70       61.0     0.0     5.0        58.0     3.0   \n",
       "1                 0.03       69.0     0.0    66.0        69.0     0.0   \n",
       "2                  NaN        0.0     0.0     0.0         NaN     NaN   \n",
       "3                 0.03        2.0     0.0     3.0         2.0     NaN   \n",
       "4                 0.00        1.0     0.0     1.0         1.0     NaN   \n",
       "\n",
       "   Production  Résidus  Semences  Traitement  Variation de stock  \n",
       "0        56.0      0.0       NaN         0.0                 NaN  \n",
       "1         3.0      0.0       NaN         0.0                 0.0  \n",
       "2         0.0      0.0       NaN         NaN                 NaN  \n",
       "3         NaN      0.0       NaN         NaN                 1.0  \n",
       "4         0.0      0.0       NaN         0.0                 0.0  "
      ]
     },
     "execution_count": 9,
     "metadata": {},
     "output_type": "execute_result"
    }
   ],
   "source": [
    "#pivot\n",
    "bilan_alim_pivot = pd.pivot_table(bilan_alim, \n",
    "                                  index = ['Zone', 'Produit'], \n",
    "                                  columns = ['Élément'],\n",
    "                                  values = ['Valeur'], \n",
    "                                  aggfunc = sum ).reset_index()\n",
    "#rename columns\n",
    "bilan_alim_pivot.columns = ['Pays', 'Produit', 'Alimentation pour touristes', 'Aliments pour animaux' , \n",
    "                            'Autres utilisations (non alimentaire)', 'Dispo alim kcal/pers/j','Dispo alim kg/pers/j', \n",
    "                            'Dispo MG g/pers/j', 'Dispo prot g/pers/j', 'Dispo int', 'Export', 'Import', 'Nourriture', 'Pertes', \n",
    "                            'Production', 'Résidus','Semences', 'Traitement', 'Variation de stock']\n",
    "\n",
    "#show df\n",
    "bilan_alim_pivot.head()"
   ]
  },
  {
   "cell_type": "markdown",
   "id": "da879bda",
   "metadata": {},
   "source": [
    "## Produits d'origine animale"
   ]
  },
  {
   "cell_type": "code",
   "execution_count": 10,
   "id": "32617f90",
   "metadata": {},
   "outputs": [],
   "source": [
    "#import data\n",
    "produits_animaux = pd.read_csv('/Users/Gladou/Documents/OpenClassRooms/Parcours Data Analyst/Projets/P5/P5_dataset/FAOSTAT_data_produits_animaux.csv')"
   ]
  },
  {
   "cell_type": "code",
   "execution_count": 11,
   "id": "ebe5c5dc",
   "metadata": {},
   "outputs": [
    {
     "data": {
      "text/html": [
       "<div>\n",
       "<style scoped>\n",
       "    .dataframe tbody tr th:only-of-type {\n",
       "        vertical-align: middle;\n",
       "    }\n",
       "\n",
       "    .dataframe tbody tr th {\n",
       "        vertical-align: top;\n",
       "    }\n",
       "\n",
       "    .dataframe thead th {\n",
       "        text-align: right;\n",
       "    }\n",
       "</style>\n",
       "<table border=\"1\" class=\"dataframe\">\n",
       "  <thead>\n",
       "    <tr style=\"text-align: right;\">\n",
       "      <th></th>\n",
       "      <th>Pays</th>\n",
       "      <th>Alimentation pour touristes</th>\n",
       "      <th>Aliments pour animaux</th>\n",
       "      <th>Autres utilisations (non alimentaire)</th>\n",
       "      <th>Dispo alim kcal/pers/j</th>\n",
       "      <th>Dispo alim kg/pers/j</th>\n",
       "      <th>Dispo MG g/pers/j</th>\n",
       "      <th>Dispo prot g/pers/j</th>\n",
       "      <th>Dispo int</th>\n",
       "      <th>Export</th>\n",
       "      <th>Import</th>\n",
       "      <th>Nourriture</th>\n",
       "      <th>Pertes</th>\n",
       "      <th>Production</th>\n",
       "      <th>Résidus</th>\n",
       "      <th>Semences</th>\n",
       "      <th>Traitement</th>\n",
       "      <th>Variation de stock</th>\n",
       "    </tr>\n",
       "  </thead>\n",
       "  <tbody>\n",
       "    <tr>\n",
       "      <th>0</th>\n",
       "      <td>Afghanistan</td>\n",
       "      <td>NaN</td>\n",
       "      <td>2.00</td>\n",
       "      <td>0.00</td>\n",
       "      <td>190.0</td>\n",
       "      <td>51.36</td>\n",
       "      <td>13.28</td>\n",
       "      <td>10.79</td>\n",
       "      <td>2729.00</td>\n",
       "      <td>0.00</td>\n",
       "      <td>134.00</td>\n",
       "      <td>1909.0</td>\n",
       "      <td>81.0</td>\n",
       "      <td>2596.00</td>\n",
       "      <td>0.0</td>\n",
       "      <td>3.0</td>\n",
       "      <td>732.0</td>\n",
       "      <td>-1.00</td>\n",
       "    </tr>\n",
       "    <tr>\n",
       "      <th>1</th>\n",
       "      <td>Afrique du Sud</td>\n",
       "      <td>NaN</td>\n",
       "      <td>303.24</td>\n",
       "      <td>186.67</td>\n",
       "      <td>477.0</td>\n",
       "      <td>132.01</td>\n",
       "      <td>33.93</td>\n",
       "      <td>36.04</td>\n",
       "      <td>8617.00</td>\n",
       "      <td>866.91</td>\n",
       "      <td>1099.84</td>\n",
       "      <td>7629.1</td>\n",
       "      <td>69.0</td>\n",
       "      <td>8382.05</td>\n",
       "      <td>-38.0</td>\n",
       "      <td>64.0</td>\n",
       "      <td>402.0</td>\n",
       "      <td>12.01</td>\n",
       "    </tr>\n",
       "    <tr>\n",
       "      <th>2</th>\n",
       "      <td>Albanie</td>\n",
       "      <td>NaN</td>\n",
       "      <td>76.17</td>\n",
       "      <td>0.00</td>\n",
       "      <td>1004.0</td>\n",
       "      <td>387.81</td>\n",
       "      <td>68.06</td>\n",
       "      <td>61.74</td>\n",
       "      <td>1376.07</td>\n",
       "      <td>23.02</td>\n",
       "      <td>70.40</td>\n",
       "      <td>1116.9</td>\n",
       "      <td>94.0</td>\n",
       "      <td>1328.70</td>\n",
       "      <td>0.0</td>\n",
       "      <td>0.0</td>\n",
       "      <td>87.0</td>\n",
       "      <td>0.00</td>\n",
       "    </tr>\n",
       "  </tbody>\n",
       "</table>\n",
       "</div>"
      ],
      "text/plain": [
       "             Pays  Alimentation pour touristes  Aliments pour animaux  \\\n",
       "0     Afghanistan                          NaN                   2.00   \n",
       "1  Afrique du Sud                          NaN                 303.24   \n",
       "2         Albanie                          NaN                  76.17   \n",
       "\n",
       "   Autres utilisations (non alimentaire)  Dispo alim kcal/pers/j  \\\n",
       "0                                   0.00                   190.0   \n",
       "1                                 186.67                   477.0   \n",
       "2                                   0.00                  1004.0   \n",
       "\n",
       "   Dispo alim kg/pers/j  Dispo MG g/pers/j  Dispo prot g/pers/j  Dispo int  \\\n",
       "0                 51.36              13.28                10.79    2729.00   \n",
       "1                132.01              33.93                36.04    8617.00   \n",
       "2                387.81              68.06                61.74    1376.07   \n",
       "\n",
       "   Export   Import  Nourriture  Pertes  Production  Résidus  Semences  \\\n",
       "0    0.00   134.00      1909.0    81.0     2596.00      0.0       3.0   \n",
       "1  866.91  1099.84      7629.1    69.0     8382.05    -38.0      64.0   \n",
       "2   23.02    70.40      1116.9    94.0     1328.70      0.0       0.0   \n",
       "\n",
       "   Traitement  Variation de stock  \n",
       "0       732.0               -1.00  \n",
       "1       402.0               12.01  \n",
       "2        87.0                0.00  "
      ]
     },
     "execution_count": 11,
     "metadata": {},
     "output_type": "execute_result"
    }
   ],
   "source": [
    "#import checking\n",
    "#produits_animaux.head(3)\n",
    "\n",
    "#remove aggregates\n",
    "produits_animaux = produits_animaux[~(produits_animaux['Zone'] == 'Chine')]\n",
    "\n",
    "#columns selection\n",
    "produits_animaux = produits_animaux[['Zone', 'Élément', 'Produit', 'Unité', 'Valeur']].copy()\n",
    "\n",
    "#pivot\n",
    "produits_animaux_pivot = pd.pivot_table(produits_animaux, \n",
    "                                        index = ['Zone'], \n",
    "                                        columns = ['Élément'],\n",
    "                                        values = ['Valeur'], \n",
    "                                        aggfunc = sum).reset_index()\n",
    "\n",
    "#rename\n",
    "produits_animaux_pivot.columns = ['Pays', 'Alimentation pour touristes', 'Aliments pour animaux' , \n",
    "                                  'Autres utilisations (non alimentaire)', 'Dispo alim kcal/pers/j','Dispo alim kg/pers/j', \n",
    "                                  'Dispo MG g/pers/j', 'Dispo prot g/pers/j', 'Dispo int', 'Export', 'Import', 'Nourriture', 'Pertes', \n",
    "                                  'Production', 'Résidus','Semences', 'Traitement', 'Variation de stock']\n",
    "\n",
    "#show\n",
    "produits_animaux_pivot.head(3)"
   ]
  },
  {
   "cell_type": "code",
   "execution_count": 12,
   "id": "fea79965",
   "metadata": {},
   "outputs": [
    {
     "data": {
      "text/html": [
       "<div>\n",
       "<style scoped>\n",
       "    .dataframe tbody tr th:only-of-type {\n",
       "        vertical-align: middle;\n",
       "    }\n",
       "\n",
       "    .dataframe tbody tr th {\n",
       "        vertical-align: top;\n",
       "    }\n",
       "\n",
       "    .dataframe thead th {\n",
       "        text-align: right;\n",
       "    }\n",
       "</style>\n",
       "<table border=\"1\" class=\"dataframe\">\n",
       "  <thead>\n",
       "    <tr style=\"text-align: right;\">\n",
       "      <th></th>\n",
       "      <th>Pays</th>\n",
       "      <th>Dispo prot g/pers/j</th>\n",
       "    </tr>\n",
       "  </thead>\n",
       "  <tbody>\n",
       "    <tr>\n",
       "      <th>0</th>\n",
       "      <td>Afghanistan</td>\n",
       "      <td>10.79</td>\n",
       "    </tr>\n",
       "    <tr>\n",
       "      <th>1</th>\n",
       "      <td>Afrique du Sud</td>\n",
       "      <td>36.04</td>\n",
       "    </tr>\n",
       "    <tr>\n",
       "      <th>2</th>\n",
       "      <td>Albanie</td>\n",
       "      <td>61.74</td>\n",
       "    </tr>\n",
       "  </tbody>\n",
       "</table>\n",
       "</div>"
      ],
      "text/plain": [
       "             Pays  Dispo prot g/pers/j\n",
       "0     Afghanistan                10.79\n",
       "1  Afrique du Sud                36.04\n",
       "2         Albanie                61.74"
      ]
     },
     "execution_count": 12,
     "metadata": {},
     "output_type": "execute_result"
    }
   ],
   "source": [
    "#select useful data \n",
    "dispo_prot_anim = produits_animaux_pivot[['Pays', 'Dispo prot g/pers/j']].copy()\n",
    "\n",
    "#show\n",
    "dispo_prot_anim.head(3)"
   ]
  },
  {
   "cell_type": "markdown",
   "id": "d1bb37cf",
   "metadata": {},
   "source": [
    "## Population"
   ]
  },
  {
   "cell_type": "code",
   "execution_count": 13,
   "id": "cc9e4fae",
   "metadata": {},
   "outputs": [],
   "source": [
    "#import data\n",
    "population = pd.read_csv('/Users/Gladou/Documents/OpenClassRooms/Parcours Data Analyst/Projets/P5/P5_dataset/FAOSTAT_data_population_2013_2018.csv')"
   ]
  },
  {
   "cell_type": "code",
   "execution_count": 14,
   "id": "021b389c",
   "metadata": {},
   "outputs": [
    {
     "data": {
      "text/html": [
       "<div>\n",
       "<style scoped>\n",
       "    .dataframe tbody tr th:only-of-type {\n",
       "        vertical-align: middle;\n",
       "    }\n",
       "\n",
       "    .dataframe tbody tr th {\n",
       "        vertical-align: top;\n",
       "    }\n",
       "\n",
       "    .dataframe thead th {\n",
       "        text-align: right;\n",
       "    }\n",
       "</style>\n",
       "<table border=\"1\" class=\"dataframe\">\n",
       "  <thead>\n",
       "    <tr style=\"text-align: right;\">\n",
       "      <th></th>\n",
       "      <th>Zone</th>\n",
       "      <th>Élément</th>\n",
       "      <th>Année</th>\n",
       "      <th>Unité</th>\n",
       "      <th>Valeur</th>\n",
       "    </tr>\n",
       "  </thead>\n",
       "  <tbody>\n",
       "    <tr>\n",
       "      <th>0</th>\n",
       "      <td>Afghanistan</td>\n",
       "      <td>Population totale</td>\n",
       "      <td>2013</td>\n",
       "      <td>1000 personnes</td>\n",
       "      <td>32269.589</td>\n",
       "    </tr>\n",
       "    <tr>\n",
       "      <th>1</th>\n",
       "      <td>Afghanistan</td>\n",
       "      <td>Population totale</td>\n",
       "      <td>2018</td>\n",
       "      <td>1000 personnes</td>\n",
       "      <td>37171.921</td>\n",
       "    </tr>\n",
       "    <tr>\n",
       "      <th>2</th>\n",
       "      <td>Afrique du Sud</td>\n",
       "      <td>Population totale</td>\n",
       "      <td>2013</td>\n",
       "      <td>1000 personnes</td>\n",
       "      <td>53687.121</td>\n",
       "    </tr>\n",
       "  </tbody>\n",
       "</table>\n",
       "</div>"
      ],
      "text/plain": [
       "             Zone            Élément  Année           Unité     Valeur\n",
       "0     Afghanistan  Population totale   2013  1000 personnes  32269.589\n",
       "1     Afghanistan  Population totale   2018  1000 personnes  37171.921\n",
       "2  Afrique du Sud  Population totale   2013  1000 personnes  53687.121"
      ]
     },
     "execution_count": 14,
     "metadata": {},
     "output_type": "execute_result"
    }
   ],
   "source": [
    "#import check \n",
    "#population.head(3)\n",
    "\n",
    "#remove aggregates\n",
    "population = population[~(population['Zone'] == 'Chine')]\n",
    "\n",
    "#columns selection\n",
    "population = population[['Zone', 'Élément','Année', 'Unité', 'Valeur']].copy()\n",
    "\n",
    "#show\n",
    "population.head(3)"
   ]
  },
  {
   "cell_type": "code",
   "execution_count": 15,
   "id": "dcdd876c",
   "metadata": {},
   "outputs": [
    {
     "data": {
      "text/html": [
       "<div>\n",
       "<style scoped>\n",
       "    .dataframe tbody tr th:only-of-type {\n",
       "        vertical-align: middle;\n",
       "    }\n",
       "\n",
       "    .dataframe tbody tr th {\n",
       "        vertical-align: top;\n",
       "    }\n",
       "\n",
       "    .dataframe thead th {\n",
       "        text-align: right;\n",
       "    }\n",
       "</style>\n",
       "<table border=\"1\" class=\"dataframe\">\n",
       "  <thead>\n",
       "    <tr style=\"text-align: right;\">\n",
       "      <th></th>\n",
       "      <th>Pays</th>\n",
       "      <th>Population 2013</th>\n",
       "      <th>Population 2018 (M)</th>\n",
       "    </tr>\n",
       "  </thead>\n",
       "  <tbody>\n",
       "    <tr>\n",
       "      <th>0</th>\n",
       "      <td>Afghanistan</td>\n",
       "      <td>32269.589</td>\n",
       "      <td>37171.921</td>\n",
       "    </tr>\n",
       "    <tr>\n",
       "      <th>1</th>\n",
       "      <td>Afrique du Sud</td>\n",
       "      <td>53687.121</td>\n",
       "      <td>57792.518</td>\n",
       "    </tr>\n",
       "    <tr>\n",
       "      <th>2</th>\n",
       "      <td>Albanie</td>\n",
       "      <td>2903.790</td>\n",
       "      <td>2882.740</td>\n",
       "    </tr>\n",
       "  </tbody>\n",
       "</table>\n",
       "</div>"
      ],
      "text/plain": [
       "             Pays  Population 2013  Population 2018 (M)\n",
       "0     Afghanistan        32269.589            37171.921\n",
       "1  Afrique du Sud        53687.121            57792.518\n",
       "2         Albanie         2903.790             2882.740"
      ]
     },
     "execution_count": 15,
     "metadata": {},
     "output_type": "execute_result"
    }
   ],
   "source": [
    "#pivot\n",
    "population = pd.pivot_table(population, \n",
    "                         index = ['Zone'], \n",
    "                         columns = ['Année'],\n",
    "                         values = ['Valeur'], \n",
    "                         aggfunc = sum).reset_index()\n",
    "#rename\n",
    "population.columns = ['Pays', 'Population 2013', 'Population 2018 (M)']\n",
    "\n",
    "#show\n",
    "population.head(3)"
   ]
  },
  {
   "cell_type": "markdown",
   "id": "3b923c0a",
   "metadata": {},
   "source": [
    ">*NB : Désormais, lorsqu'on parlera de la population ou du nombre d'habitants, ce résultat sera exprimé en milliers de personnes.*"
   ]
  },
  {
   "cell_type": "code",
   "execution_count": 16,
   "id": "4ae901ec",
   "metadata": {},
   "outputs": [],
   "source": [
    "#variable creation\n",
    "population['Évolution population (%)'] = round((population['Population 2018 (M)'] - population['Population 2013']) /\n",
    "                                               population['Population 2018 (M)'] * 100,2)"
   ]
  },
  {
   "cell_type": "code",
   "execution_count": 17,
   "id": "820ab24b",
   "metadata": {
    "scrolled": true
   },
   "outputs": [
    {
     "data": {
      "text/html": [
       "<div>\n",
       "<style scoped>\n",
       "    .dataframe tbody tr th:only-of-type {\n",
       "        vertical-align: middle;\n",
       "    }\n",
       "\n",
       "    .dataframe tbody tr th {\n",
       "        vertical-align: top;\n",
       "    }\n",
       "\n",
       "    .dataframe thead th {\n",
       "        text-align: right;\n",
       "    }\n",
       "</style>\n",
       "<table border=\"1\" class=\"dataframe\">\n",
       "  <thead>\n",
       "    <tr style=\"text-align: right;\">\n",
       "      <th></th>\n",
       "      <th>Pays</th>\n",
       "      <th>Population 2018 (M)</th>\n",
       "      <th>Évolution population (%)</th>\n",
       "    </tr>\n",
       "  </thead>\n",
       "  <tbody>\n",
       "    <tr>\n",
       "      <th>0</th>\n",
       "      <td>Afghanistan</td>\n",
       "      <td>37171.921</td>\n",
       "      <td>13.19</td>\n",
       "    </tr>\n",
       "    <tr>\n",
       "      <th>1</th>\n",
       "      <td>Afrique du Sud</td>\n",
       "      <td>57792.518</td>\n",
       "      <td>7.10</td>\n",
       "    </tr>\n",
       "    <tr>\n",
       "      <th>2</th>\n",
       "      <td>Albanie</td>\n",
       "      <td>2882.740</td>\n",
       "      <td>-0.73</td>\n",
       "    </tr>\n",
       "    <tr>\n",
       "      <th>3</th>\n",
       "      <td>Algérie</td>\n",
       "      <td>42228.408</td>\n",
       "      <td>9.68</td>\n",
       "    </tr>\n",
       "    <tr>\n",
       "      <th>4</th>\n",
       "      <td>Allemagne</td>\n",
       "      <td>83124.418</td>\n",
       "      <td>2.35</td>\n",
       "    </tr>\n",
       "  </tbody>\n",
       "</table>\n",
       "</div>"
      ],
      "text/plain": [
       "             Pays  Population 2018 (M)  Évolution population (%)\n",
       "0     Afghanistan            37171.921                     13.19\n",
       "1  Afrique du Sud            57792.518                      7.10\n",
       "2         Albanie             2882.740                     -0.73\n",
       "3         Algérie            42228.408                      9.68\n",
       "4       Allemagne            83124.418                      2.35"
      ]
     },
     "execution_count": 17,
     "metadata": {},
     "output_type": "execute_result"
    }
   ],
   "source": [
    "#drop no useful variable for the rest\n",
    "population = population.drop(columns=['Population 2013'])\n",
    "population.head()"
   ]
  },
  {
   "cell_type": "markdown",
   "id": "6cea8d1c",
   "metadata": {},
   "source": [
    "## PIB"
   ]
  },
  {
   "cell_type": "code",
   "execution_count": 18,
   "id": "ed47b26b",
   "metadata": {},
   "outputs": [],
   "source": [
    "#import data\n",
    "PIB = pd.read_csv('/Users/Gladou/Documents/OpenClassRooms/Parcours Data Analyst/Projets/P5/P5_dataset/FAOSTAT_data_PIB.csv')\n",
    "\n",
    "#import check\n",
    "# PIB.head(3)\n",
    "\n",
    "#remove aggregates\n",
    "PIB = PIB[~(PIB['Zone'] == 'Chine')]\n",
    "\n",
    "#select\n",
    "PIB = PIB[['Zone', 'Valeur']].copy()\n",
    "\n",
    "#rename\n",
    "PIB = PIB.rename(columns = {'Zone' : 'Pays',\n",
    "                            'Valeur' : 'PIB (M$)'})"
   ]
  },
  {
   "cell_type": "markdown",
   "id": "14cafea8",
   "metadata": {},
   "source": [
    "## Importation produit 'Viande de Volailles'"
   ]
  },
  {
   "cell_type": "markdown",
   "id": "e478014e",
   "metadata": {
    "scrolled": false
   },
   "source": [
    ">*Avec la ligne bilan_alim_pivot['Produit'].unique(), on constate que le libellé correspondant aux informations sur le poulet est 'Viande de Volailles'.*"
   ]
  },
  {
   "cell_type": "code",
   "execution_count": 19,
   "id": "adfe75c0",
   "metadata": {
    "scrolled": true
   },
   "outputs": [
    {
     "data": {
      "text/html": [
       "<div>\n",
       "<style scoped>\n",
       "    .dataframe tbody tr th:only-of-type {\n",
       "        vertical-align: middle;\n",
       "    }\n",
       "\n",
       "    .dataframe tbody tr th {\n",
       "        vertical-align: top;\n",
       "    }\n",
       "\n",
       "    .dataframe thead th {\n",
       "        text-align: right;\n",
       "    }\n",
       "</style>\n",
       "<table border=\"1\" class=\"dataframe\">\n",
       "  <thead>\n",
       "    <tr style=\"text-align: right;\">\n",
       "      <th></th>\n",
       "      <th>Pays</th>\n",
       "      <th>Import</th>\n",
       "    </tr>\n",
       "  </thead>\n",
       "  <tbody>\n",
       "    <tr>\n",
       "      <th>0</th>\n",
       "      <td>Afghanistan</td>\n",
       "      <td>25.0</td>\n",
       "    </tr>\n",
       "    <tr>\n",
       "      <th>1</th>\n",
       "      <td>Afrique du Sud</td>\n",
       "      <td>515.0</td>\n",
       "    </tr>\n",
       "    <tr>\n",
       "      <th>2</th>\n",
       "      <td>Albanie</td>\n",
       "      <td>12.0</td>\n",
       "    </tr>\n",
       "    <tr>\n",
       "      <th>3</th>\n",
       "      <td>Algérie</td>\n",
       "      <td>0.0</td>\n",
       "    </tr>\n",
       "    <tr>\n",
       "      <th>4</th>\n",
       "      <td>Allemagne</td>\n",
       "      <td>871.0</td>\n",
       "    </tr>\n",
       "    <tr>\n",
       "      <th>...</th>\n",
       "      <td>...</td>\n",
       "      <td>...</td>\n",
       "    </tr>\n",
       "    <tr>\n",
       "      <th>168</th>\n",
       "      <td>Émirats arabes unis</td>\n",
       "      <td>609.0</td>\n",
       "    </tr>\n",
       "    <tr>\n",
       "      <th>169</th>\n",
       "      <td>Équateur</td>\n",
       "      <td>0.0</td>\n",
       "    </tr>\n",
       "    <tr>\n",
       "      <th>170</th>\n",
       "      <td>États-Unis d'Amérique</td>\n",
       "      <td>128.0</td>\n",
       "    </tr>\n",
       "    <tr>\n",
       "      <th>171</th>\n",
       "      <td>Éthiopie</td>\n",
       "      <td>1.0</td>\n",
       "    </tr>\n",
       "    <tr>\n",
       "      <th>172</th>\n",
       "      <td>Îles Salomon</td>\n",
       "      <td>5.0</td>\n",
       "    </tr>\n",
       "  </tbody>\n",
       "</table>\n",
       "<p>173 rows × 2 columns</p>\n",
       "</div>"
      ],
      "text/plain": [
       "                      Pays  Import\n",
       "0              Afghanistan    25.0\n",
       "1           Afrique du Sud   515.0\n",
       "2                  Albanie    12.0\n",
       "3                  Algérie     0.0\n",
       "4                Allemagne   871.0\n",
       "..                     ...     ...\n",
       "168    Émirats arabes unis   609.0\n",
       "169               Équateur     0.0\n",
       "170  États-Unis d'Amérique   128.0\n",
       "171               Éthiopie     1.0\n",
       "172           Îles Salomon     5.0\n",
       "\n",
       "[173 rows x 2 columns]"
      ]
     },
     "execution_count": 19,
     "metadata": {},
     "output_type": "execute_result"
    }
   ],
   "source": [
    "#variable creation\n",
    "imp_poulet = bilan_alim_pivot[bilan_alim_pivot['Produit'] == 'Viande de Volailles'].reset_index()\n",
    "imp_poulet = imp_poulet[['Pays', 'Import']]\n",
    "imp_poulet "
   ]
  },
  {
   "cell_type": "markdown",
   "id": "e562647d",
   "metadata": {},
   "source": [
    "## Dataframe final"
   ]
  },
  {
   "cell_type": "code",
   "execution_count": 20,
   "id": "e9769a10",
   "metadata": {},
   "outputs": [
    {
     "data": {
      "text/html": [
       "<div>\n",
       "<style scoped>\n",
       "    .dataframe tbody tr th:only-of-type {\n",
       "        vertical-align: middle;\n",
       "    }\n",
       "\n",
       "    .dataframe tbody tr th {\n",
       "        vertical-align: top;\n",
       "    }\n",
       "\n",
       "    .dataframe thead th {\n",
       "        text-align: right;\n",
       "    }\n",
       "</style>\n",
       "<table border=\"1\" class=\"dataframe\">\n",
       "  <thead>\n",
       "    <tr style=\"text-align: right;\">\n",
       "      <th></th>\n",
       "      <th>Pays</th>\n",
       "      <th>Dispo prot totale g/pers/j</th>\n",
       "      <th>Dispo alim kcal/pers/j</th>\n",
       "      <th>Dispo prot animale g/pers/j</th>\n",
       "    </tr>\n",
       "  </thead>\n",
       "  <tbody>\n",
       "    <tr>\n",
       "      <th>0</th>\n",
       "      <td>Afghanistan</td>\n",
       "      <td>55.50</td>\n",
       "      <td>2038.0</td>\n",
       "      <td>10.79</td>\n",
       "    </tr>\n",
       "    <tr>\n",
       "      <th>1</th>\n",
       "      <td>Afrique du Sud</td>\n",
       "      <td>84.37</td>\n",
       "      <td>2895.0</td>\n",
       "      <td>36.04</td>\n",
       "    </tr>\n",
       "    <tr>\n",
       "      <th>2</th>\n",
       "      <td>Albanie</td>\n",
       "      <td>115.67</td>\n",
       "      <td>3361.0</td>\n",
       "      <td>61.74</td>\n",
       "    </tr>\n",
       "    <tr>\n",
       "      <th>3</th>\n",
       "      <td>Algérie</td>\n",
       "      <td>91.82</td>\n",
       "      <td>3321.0</td>\n",
       "      <td>24.72</td>\n",
       "    </tr>\n",
       "    <tr>\n",
       "      <th>4</th>\n",
       "      <td>Allemagne</td>\n",
       "      <td>105.15</td>\n",
       "      <td>3554.0</td>\n",
       "      <td>64.03</td>\n",
       "    </tr>\n",
       "  </tbody>\n",
       "</table>\n",
       "</div>"
      ],
      "text/plain": [
       "             Pays  Dispo prot totale g/pers/j  Dispo alim kcal/pers/j  \\\n",
       "0     Afghanistan                       55.50                  2038.0   \n",
       "1  Afrique du Sud                       84.37                  2895.0   \n",
       "2         Albanie                      115.67                  3361.0   \n",
       "3         Algérie                       91.82                  3321.0   \n",
       "4       Allemagne                      105.15                  3554.0   \n",
       "\n",
       "   Dispo prot animale g/pers/j  \n",
       "0                        10.79  \n",
       "1                        36.04  \n",
       "2                        61.74  \n",
       "3                        24.72  \n",
       "4                        64.03  "
      ]
     },
     "execution_count": 20,
     "metadata": {},
     "output_type": "execute_result"
    }
   ],
   "source": [
    "df = bilan_alim_pivot.groupby('Pays')[['Dispo prot g/pers/j','Dispo alim kcal/pers/j', ]].sum().reset_index()\n",
    "\n",
    "df = pd.merge(df, dispo_prot_anim, on='Pays', how='left')\n",
    "\n",
    "df = df.rename(columns = {'Dispo prot g/pers/j_x' : 'Dispo prot totale g/pers/j',\n",
    "                          'Dispo prot g/pers/j_y' : 'Dispo prot animale g/pers/j'})\n",
    "\n",
    "df.head()"
   ]
  },
  {
   "cell_type": "code",
   "execution_count": 21,
   "id": "5bddb6a3",
   "metadata": {},
   "outputs": [],
   "source": [
    "#variable creation\n",
    "df['Prot animale (%)'] = round((df['Dispo prot animale g/pers/j'] / df['Dispo prot totale g/pers/j']) * 100,2)"
   ]
  },
  {
   "cell_type": "code",
   "execution_count": 22,
   "id": "e8dfd1a2",
   "metadata": {},
   "outputs": [
    {
     "data": {
      "text/html": [
       "<div>\n",
       "<style scoped>\n",
       "    .dataframe tbody tr th:only-of-type {\n",
       "        vertical-align: middle;\n",
       "    }\n",
       "\n",
       "    .dataframe tbody tr th {\n",
       "        vertical-align: top;\n",
       "    }\n",
       "\n",
       "    .dataframe thead th {\n",
       "        text-align: right;\n",
       "    }\n",
       "</style>\n",
       "<table border=\"1\" class=\"dataframe\">\n",
       "  <thead>\n",
       "    <tr style=\"text-align: right;\">\n",
       "      <th></th>\n",
       "      <th>Pays</th>\n",
       "      <th>Dispo alim prot g/pers</th>\n",
       "      <th>Dispo alim kcal/pers</th>\n",
       "      <th>Dispo prot animale g/pers/j</th>\n",
       "      <th>Prot animale (%)</th>\n",
       "    </tr>\n",
       "  </thead>\n",
       "  <tbody>\n",
       "    <tr>\n",
       "      <th>0</th>\n",
       "      <td>Afghanistan</td>\n",
       "      <td>20257.50</td>\n",
       "      <td>743870.0</td>\n",
       "      <td>10.79</td>\n",
       "      <td>19.44</td>\n",
       "    </tr>\n",
       "    <tr>\n",
       "      <th>1</th>\n",
       "      <td>Afrique du Sud</td>\n",
       "      <td>30795.05</td>\n",
       "      <td>1056675.0</td>\n",
       "      <td>36.04</td>\n",
       "      <td>42.72</td>\n",
       "    </tr>\n",
       "    <tr>\n",
       "      <th>2</th>\n",
       "      <td>Albanie</td>\n",
       "      <td>42219.55</td>\n",
       "      <td>1226765.0</td>\n",
       "      <td>61.74</td>\n",
       "      <td>53.38</td>\n",
       "    </tr>\n",
       "    <tr>\n",
       "      <th>3</th>\n",
       "      <td>Algérie</td>\n",
       "      <td>33514.30</td>\n",
       "      <td>1212165.0</td>\n",
       "      <td>24.72</td>\n",
       "      <td>26.92</td>\n",
       "    </tr>\n",
       "    <tr>\n",
       "      <th>4</th>\n",
       "      <td>Allemagne</td>\n",
       "      <td>38379.75</td>\n",
       "      <td>1297210.0</td>\n",
       "      <td>64.03</td>\n",
       "      <td>60.89</td>\n",
       "    </tr>\n",
       "  </tbody>\n",
       "</table>\n",
       "</div>"
      ],
      "text/plain": [
       "             Pays  Dispo alim prot g/pers  Dispo alim kcal/pers  \\\n",
       "0     Afghanistan                20257.50              743870.0   \n",
       "1  Afrique du Sud                30795.05             1056675.0   \n",
       "2         Albanie                42219.55             1226765.0   \n",
       "3         Algérie                33514.30             1212165.0   \n",
       "4       Allemagne                38379.75             1297210.0   \n",
       "\n",
       "   Dispo prot animale g/pers/j  Prot animale (%)  \n",
       "0                        10.79             19.44  \n",
       "1                        36.04             42.72  \n",
       "2                        61.74             53.38  \n",
       "3                        24.72             26.92  \n",
       "4                        64.03             60.89  "
      ]
     },
     "execution_count": 22,
     "metadata": {},
     "output_type": "execute_result"
    }
   ],
   "source": [
    "#to have the units as requested\n",
    "df['Dispo prot totale g/pers/j'] *= 365\n",
    "df['Dispo alim kcal/pers/j'] *= 365\n",
    "\n",
    "#rename\n",
    "df = df.rename(columns = {'Dispo prot totale g/pers/j' : 'Dispo alim prot g/pers',\n",
    "                          'Dispo alim kcal/pers/j' : 'Dispo alim kcal/pers'})\n",
    "               \n",
    "df.head()"
   ]
  },
  {
   "cell_type": "code",
   "execution_count": 23,
   "id": "f0029c8c",
   "metadata": {
    "scrolled": true
   },
   "outputs": [
    {
     "data": {
      "text/html": [
       "<div>\n",
       "<style scoped>\n",
       "    .dataframe tbody tr th:only-of-type {\n",
       "        vertical-align: middle;\n",
       "    }\n",
       "\n",
       "    .dataframe tbody tr th {\n",
       "        vertical-align: top;\n",
       "    }\n",
       "\n",
       "    .dataframe thead th {\n",
       "        text-align: right;\n",
       "    }\n",
       "</style>\n",
       "<table border=\"1\" class=\"dataframe\">\n",
       "  <thead>\n",
       "    <tr style=\"text-align: right;\">\n",
       "      <th></th>\n",
       "      <th>Pays</th>\n",
       "      <th>Dispo alim prot g/pers</th>\n",
       "      <th>Dispo alim kcal/pers</th>\n",
       "      <th>Prot animale (%)</th>\n",
       "      <th>Import (kT)</th>\n",
       "      <th>Population 2018 (M)</th>\n",
       "      <th>Évolution population (%)</th>\n",
       "      <th>PIB (M$)</th>\n",
       "    </tr>\n",
       "  </thead>\n",
       "  <tbody>\n",
       "    <tr>\n",
       "      <th>0</th>\n",
       "      <td>Afghanistan</td>\n",
       "      <td>20257.50</td>\n",
       "      <td>743870.0</td>\n",
       "      <td>19.44</td>\n",
       "      <td>25.0</td>\n",
       "      <td>37171.921</td>\n",
       "      <td>13.19</td>\n",
       "      <td>1.798697e+04</td>\n",
       "    </tr>\n",
       "    <tr>\n",
       "      <th>1</th>\n",
       "      <td>Afrique du Sud</td>\n",
       "      <td>30795.05</td>\n",
       "      <td>1056675.0</td>\n",
       "      <td>42.72</td>\n",
       "      <td>515.0</td>\n",
       "      <td>57792.518</td>\n",
       "      <td>7.10</td>\n",
       "      <td>3.680939e+05</td>\n",
       "    </tr>\n",
       "    <tr>\n",
       "      <th>2</th>\n",
       "      <td>Albanie</td>\n",
       "      <td>42219.55</td>\n",
       "      <td>1226765.0</td>\n",
       "      <td>53.38</td>\n",
       "      <td>12.0</td>\n",
       "      <td>2882.740</td>\n",
       "      <td>-0.73</td>\n",
       "      <td>1.514703e+04</td>\n",
       "    </tr>\n",
       "    <tr>\n",
       "      <th>3</th>\n",
       "      <td>Algérie</td>\n",
       "      <td>33514.30</td>\n",
       "      <td>1212165.0</td>\n",
       "      <td>26.92</td>\n",
       "      <td>0.0</td>\n",
       "      <td>42228.408</td>\n",
       "      <td>9.68</td>\n",
       "      <td>1.754150e+05</td>\n",
       "    </tr>\n",
       "    <tr>\n",
       "      <th>4</th>\n",
       "      <td>Allemagne</td>\n",
       "      <td>38379.75</td>\n",
       "      <td>1297210.0</td>\n",
       "      <td>60.89</td>\n",
       "      <td>871.0</td>\n",
       "      <td>83124.418</td>\n",
       "      <td>2.35</td>\n",
       "      <td>3.963768e+06</td>\n",
       "    </tr>\n",
       "  </tbody>\n",
       "</table>\n",
       "</div>"
      ],
      "text/plain": [
       "             Pays  Dispo alim prot g/pers  Dispo alim kcal/pers  \\\n",
       "0     Afghanistan                20257.50              743870.0   \n",
       "1  Afrique du Sud                30795.05             1056675.0   \n",
       "2         Albanie                42219.55             1226765.0   \n",
       "3         Algérie                33514.30             1212165.0   \n",
       "4       Allemagne                38379.75             1297210.0   \n",
       "\n",
       "   Prot animale (%)  Import (kT)  Population 2018 (M)  \\\n",
       "0             19.44         25.0            37171.921   \n",
       "1             42.72        515.0            57792.518   \n",
       "2             53.38         12.0             2882.740   \n",
       "3             26.92          0.0            42228.408   \n",
       "4             60.89        871.0            83124.418   \n",
       "\n",
       "   Évolution population (%)      PIB (M$)  \n",
       "0                     13.19  1.798697e+04  \n",
       "1                      7.10  3.680939e+05  \n",
       "2                     -0.73  1.514703e+04  \n",
       "3                      9.68  1.754150e+05  \n",
       "4                      2.35  3.963768e+06  "
      ]
     },
     "execution_count": 23,
     "metadata": {},
     "output_type": "execute_result"
    }
   ],
   "source": [
    "#merging all the previous df\n",
    "df = pd.merge(df, imp_poulet, on='Pays', how='left')\n",
    "\n",
    "df = pd.merge(df, population, on='Pays', how='left')\n",
    "\n",
    "df = pd.merge(df, PIB, on='Pays', how='left')\n",
    "\n",
    "df = df.drop(columns='Dispo prot animale g/pers/j')\n",
    "\n",
    "df = df.rename(columns = {'Import' : 'Import (kT)'})\n",
    "\n",
    "#final df\n",
    "df.head()"
   ]
  },
  {
   "cell_type": "markdown",
   "id": "47d18d58",
   "metadata": {},
   "source": [
    "## Profiling Report"
   ]
  },
  {
   "cell_type": "code",
   "execution_count": 24,
   "id": "83e38970",
   "metadata": {},
   "outputs": [],
   "source": [
    "profile = ProfileReport(df, title=\"Pandas Profiling Report\", explorative=True)"
   ]
  },
  {
   "cell_type": "code",
   "execution_count": 25,
   "id": "bdf18300",
   "metadata": {
    "scrolled": false
   },
   "outputs": [
    {
     "data": {
      "application/vnd.jupyter.widget-view+json": {
       "model_id": "6092afb1a33043f3a5cfaa5723619f89",
       "version_major": 2,
       "version_minor": 0
      },
      "text/plain": [
       "Summarize dataset:   0%|          | 0/21 [00:00<?, ?it/s]"
      ]
     },
     "metadata": {},
     "output_type": "display_data"
    },
    {
     "data": {
      "application/vnd.jupyter.widget-view+json": {
       "model_id": "5f098c57cff54f818650ef939c76dee4",
       "version_major": 2,
       "version_minor": 0
      },
      "text/plain": [
       "Generate report structure:   0%|          | 0/1 [00:00<?, ?it/s]"
      ]
     },
     "metadata": {},
     "output_type": "display_data"
    },
    {
     "data": {
      "application/vnd.jupyter.widget-view+json": {
       "model_id": "",
       "version_major": 2,
       "version_minor": 0
      },
      "text/plain": [
       "Render widgets:   0%|          | 0/1 [00:00<?, ?it/s]"
      ]
     },
     "metadata": {},
     "output_type": "display_data"
    },
    {
     "data": {
      "application/vnd.jupyter.widget-view+json": {
       "model_id": "1b61fc801af249399809c96a5b7c6d3c",
       "version_major": 2,
       "version_minor": 0
      },
      "text/plain": [
       "VBox(children=(Tab(children=(Tab(children=(GridBox(children=(VBox(children=(GridspecLayout(children=(HTML(valu…"
      ]
     },
     "metadata": {},
     "output_type": "display_data"
    }
   ],
   "source": [
    "#overview\n",
    "profile.to_widgets()"
   ]
  },
  {
   "cell_type": "markdown",
   "id": "35644399",
   "metadata": {},
   "source": [
    "## Cleaning"
   ]
  },
  {
   "cell_type": "code",
   "execution_count": 26,
   "id": "a22821a3",
   "metadata": {},
   "outputs": [
    {
     "data": {
      "text/plain": [
       "Pays                        0\n",
       "Dispo alim prot g/pers      0\n",
       "Dispo alim kcal/pers        0\n",
       "Prot animale (%)            2\n",
       "Import (kT)                 2\n",
       "Population 2018 (M)         0\n",
       "Évolution population (%)    0\n",
       "PIB (M$)                    1\n",
       "dtype: int64"
      ]
     },
     "execution_count": 26,
     "metadata": {},
     "output_type": "execute_result"
    }
   ],
   "source": [
    "df.isna().sum()"
   ]
  },
  {
   "cell_type": "code",
   "execution_count": 27,
   "id": "d2cc4125",
   "metadata": {},
   "outputs": [
    {
     "data": {
      "text/html": [
       "<div>\n",
       "<style scoped>\n",
       "    .dataframe tbody tr th:only-of-type {\n",
       "        vertical-align: middle;\n",
       "    }\n",
       "\n",
       "    .dataframe tbody tr th {\n",
       "        vertical-align: top;\n",
       "    }\n",
       "\n",
       "    .dataframe thead th {\n",
       "        text-align: right;\n",
       "    }\n",
       "</style>\n",
       "<table border=\"1\" class=\"dataframe\">\n",
       "  <thead>\n",
       "    <tr style=\"text-align: right;\">\n",
       "      <th></th>\n",
       "      <th>Pays</th>\n",
       "      <th>Dispo alim prot g/pers</th>\n",
       "      <th>Dispo alim kcal/pers</th>\n",
       "      <th>Prot animale (%)</th>\n",
       "      <th>Import (kT)</th>\n",
       "      <th>Population 2018 (M)</th>\n",
       "      <th>Évolution population (%)</th>\n",
       "      <th>PIB (M$)</th>\n",
       "    </tr>\n",
       "  </thead>\n",
       "  <tbody>\n",
       "    <tr>\n",
       "      <th>33</th>\n",
       "      <td>Chine, Taiwan Province de</td>\n",
       "      <td>31437.45</td>\n",
       "      <td>1089525.0</td>\n",
       "      <td>50.59</td>\n",
       "      <td>217.0</td>\n",
       "      <td>23726.460</td>\n",
       "      <td>1.28</td>\n",
       "      <td>NaN</td>\n",
       "    </tr>\n",
       "    <tr>\n",
       "      <th>37</th>\n",
       "      <td>Comores</td>\n",
       "      <td>0.00</td>\n",
       "      <td>0.0</td>\n",
       "      <td>NaN</td>\n",
       "      <td>NaN</td>\n",
       "      <td>832.322</td>\n",
       "      <td>10.91</td>\n",
       "      <td>1178.530634</td>\n",
       "    </tr>\n",
       "    <tr>\n",
       "      <th>141</th>\n",
       "      <td>Seychelles</td>\n",
       "      <td>0.00</td>\n",
       "      <td>0.0</td>\n",
       "      <td>NaN</td>\n",
       "      <td>NaN</td>\n",
       "      <td>97.096</td>\n",
       "      <td>3.81</td>\n",
       "      <td>1586.052701</td>\n",
       "    </tr>\n",
       "  </tbody>\n",
       "</table>\n",
       "</div>"
      ],
      "text/plain": [
       "                          Pays  Dispo alim prot g/pers  Dispo alim kcal/pers  \\\n",
       "33   Chine, Taiwan Province de                31437.45             1089525.0   \n",
       "37                     Comores                    0.00                   0.0   \n",
       "141                 Seychelles                    0.00                   0.0   \n",
       "\n",
       "     Prot animale (%)  Import (kT)  Population 2018 (M)  \\\n",
       "33              50.59        217.0            23726.460   \n",
       "37                NaN          NaN              832.322   \n",
       "141               NaN          NaN               97.096   \n",
       "\n",
       "     Évolution population (%)     PIB (M$)  \n",
       "33                       1.28          NaN  \n",
       "37                      10.91  1178.530634  \n",
       "141                      3.81  1586.052701  "
      ]
     },
     "execution_count": 27,
     "metadata": {},
     "output_type": "execute_result"
    }
   ],
   "source": [
    "#details where nan returned\n",
    "df[(df['Prot animale (%)'].isna() == True) | (df['Import (kT)'].isna() == True) | (df['Population 2018 (M)'].isna() == True) | \n",
    "   (df['Évolution population (%)'].isna() == True) | (df['PIB (M$)'].isna() == True)]"
   ]
  },
  {
   "cell_type": "code",
   "execution_count": 28,
   "id": "254d0675",
   "metadata": {},
   "outputs": [],
   "source": [
    "df = df.drop([37, 141])"
   ]
  },
  {
   "cell_type": "markdown",
   "id": "390d0aba",
   "metadata": {},
   "source": [
    ">*[PIB Taïwan 2018](https://www.populationdata.net/pays/taiwan/)*"
   ]
  },
  {
   "cell_type": "code",
   "execution_count": 29,
   "id": "55a2464b",
   "metadata": {},
   "outputs": [],
   "source": [
    "df = df.fillna(\"%e\"%602680)"
   ]
  },
  {
   "cell_type": "markdown",
   "id": "4647ea6d",
   "metadata": {},
   "source": [
    "## Export"
   ]
  },
  {
   "cell_type": "code",
   "execution_count": 30,
   "id": "5618c607",
   "metadata": {},
   "outputs": [],
   "source": [
    "df.to_csv('df.csv', index=False)"
   ]
  },
  {
   "cell_type": "markdown",
   "id": "98d65cb9",
   "metadata": {},
   "source": [
    ">*Please, go to P5_03_analysis*"
   ]
  }
 ],
 "metadata": {
  "kernelspec": {
   "display_name": "Python 3",
   "language": "python",
   "name": "python3"
  },
  "language_info": {
   "codemirror_mode": {
    "name": "ipython",
    "version": 3
   },
   "file_extension": ".py",
   "mimetype": "text/x-python",
   "name": "python",
   "nbconvert_exporter": "python",
   "pygments_lexer": "ipython3",
   "version": "3.8.10"
  },
  "toc": {
   "base_numbering": "1",
   "nav_menu": {},
   "number_sections": true,
   "sideBar": true,
   "skip_h1_title": false,
   "title_cell": "Table of Contents",
   "title_sidebar": "Contents",
   "toc_cell": true,
   "toc_position": {
    "height": "calc(100% - 180px)",
    "left": "10px",
    "top": "150px",
    "width": "213px"
   },
   "toc_section_display": true,
   "toc_window_display": true
  }
 },
 "nbformat": 4,
 "nbformat_minor": 5
}
